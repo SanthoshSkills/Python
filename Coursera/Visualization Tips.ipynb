{
 "cells": [
  {
   "cell_type": "markdown",
   "id": "d78fdc5e",
   "metadata": {},
   "source": [
    "# What can you do with univariate data"
   ]
  },
  {
   "cell_type": "markdown",
   "id": "c5d2cff3",
   "metadata": {},
   "source": [
    "## Categorical Data - Tables, bar charts, pie charts"
   ]
  },
  {
   "cell_type": "markdown",
   "id": "b27a6d08",
   "metadata": {},
   "source": [
    "1. Frequency table\n",
    "2. Column / Bar chart - Count or % of Total\n",
    "3. Pie chart - Not better than Column due to overlaps"
   ]
  },
  {
   "cell_type": "markdown",
   "id": "d772700d",
   "metadata": {},
   "source": [
    "## Quantitative Data - Histograms"
   ]
  },
  {
   "cell_type": "markdown",
   "id": "236d8c03",
   "metadata": {},
   "source": [
    "### 4 Main Aspects\n",
    "1. Shape - overall appearance of histogram - symmetric, bell shaped, left skewed, right skewed, etc.\n",
    "2. Center - Mean or Median\n",
    "3. Spread - How far out data spreads - range, interquartile range (IQR), standard deviation, variance\n",
    "4. Outliers - Data points that fall far from the bulk of the data\n",
    "\n",
    "One sentence summary should allow for any person to read it and have a general understanding of what your data looks like.\n",
    "\n",
    "**Bell curve distribution in sentence** - The _distribution_ of **adult male heights** is roughly **bell shaped** with a _center_ of **68 inches**, a _range_ of **13 inches (62 to 75)**, and **no apparent** _outliers_.\n",
    "\n",
    "**Bimodal** - 2 separate big columns with dips inbetween<br>\n",
    "**Right skewed** - Big columns to the left and a long tail to the right<br>\n",
    "**Median** - Divide into left and right such that area to the left = area to the right (in right skewed histograms, it would be nearer to the origin<br>\n",
    "**Mean** - If right skewed, the mean will be to the right of median and if left skewed mean will be to the left of median and for normal distribution both mean and median will be close to each other<br>\n",
    "**Outliers** - Usually found in skewed data sets and would be near the end of the tail in the direction of the skew<br>\n",
    "\n",
    "**Bimodal Right skewed distribution in sentence** - The __distribution__ of **salaries in San Francisco** is **bimodal and skewed to the right**, __centered__ at **about \\\\$80,000 with most of the data between \\\\$40,000 and \\\\$120,000**, a __range__ of **roughly \\\\$600,000**, and __outliers__ are **present at the higher end**."
   ]
  },
  {
   "cell_type": "markdown",
   "id": "b2af1f3f",
   "metadata": {},
   "source": [
    "## Quantitative Data - Numerical Summaries"
   ]
  },
  {
   "cell_type": "markdown",
   "id": "2055d42b",
   "metadata": {},
   "source": [
    "### 5 Number Summary\n",
    "1. Min\n",
    "2. 1st Quartile\n",
    "3. Median\n",
    "4. 3rd Quartile\n",
    "5. Max\n",
    "\n",
    "**Numerical Summaries** (also called **summary statistics**) are used alongside graphical representation of data to give a first impression of what our data looks like."
   ]
  },
  {
   "cell_type": "markdown",
   "id": "4d548412",
   "metadata": {},
   "source": [
    "## Standard Score (Empirical Rule)"
   ]
  },
  {
   "cell_type": "markdown",
   "id": "cf2c6c57",
   "metadata": {},
   "source": [
    "1 standard deviation covers 68% of the sample\n",
    "2 standard deviations covers 95% of the sample\n",
    "3 standard deviations covers 99.7% of the sample\n",
    "\n",
    "z score = distance from mean / standard deviation\n",
    "z score = (observation - mean) / standard deviation"
   ]
  },
  {
   "cell_type": "markdown",
   "id": "d8e79b1f",
   "metadata": {},
   "source": [
    "## Quantitative Data - Boxplots"
   ]
  },
  {
   "cell_type": "markdown",
   "id": "e46ec98e",
   "metadata": {},
   "source": [
    "Visual representation of the 5 number summary\n"
   ]
  },
  {
   "cell_type": "markdown",
   "id": "5e618ae3",
   "metadata": {},
   "source": []
  },
  {
   "cell_type": "markdown",
   "id": "20ec65da",
   "metadata": {},
   "source": []
  },
  {
   "cell_type": "markdown",
   "id": "86ab015c",
   "metadata": {},
   "source": []
  },
  {
   "cell_type": "markdown",
   "id": "4b6778d0",
   "metadata": {},
   "source": []
  },
  {
   "cell_type": "markdown",
   "id": "6f1b0a9c",
   "metadata": {},
   "source": []
  },
  {
   "cell_type": "markdown",
   "id": "2ebb4d3f",
   "metadata": {},
   "source": []
  }
 ],
 "metadata": {
  "kernelspec": {
   "display_name": "Python 3",
   "language": "python",
   "name": "python3"
  },
  "language_info": {
   "codemirror_mode": {
    "name": "ipython",
    "version": 3
   },
   "file_extension": ".py",
   "mimetype": "text/x-python",
   "name": "python",
   "nbconvert_exporter": "python",
   "pygments_lexer": "ipython3",
   "version": "3.8.8"
  }
 },
 "nbformat": 4,
 "nbformat_minor": 5
}
